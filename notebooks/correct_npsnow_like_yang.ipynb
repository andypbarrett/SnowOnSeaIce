{
 "cells": [
  {
   "cell_type": "code",
   "execution_count": 1,
   "metadata": {},
   "outputs": [],
   "source": [
    "%matplotlib inline"
   ]
  },
  {
   "cell_type": "code",
   "execution_count": 2,
   "metadata": {},
   "outputs": [],
   "source": [
    "import sys\n",
    "sys.path.append('../source')\n",
    "\n",
    "import glob\n",
    "import os\n",
    "import numpy as np\n",
    "import pandas as pd\n",
    "import matplotlib.pyplot as plt\n",
    "import cartopy.crs as ccrs\n",
    "import cartopy.feature as cfeature\n",
    "import calendar\n",
    "\n",
    "import readers.npsnow as npsnow\n",
    "import trajectory\n",
    "from merge_npsnow_data import get_station_list, merge_one_station\n",
    "from constants import DATADIR"
   ]
  },
  {
   "cell_type": "markdown",
   "metadata": {},
   "source": [
    "## Merge data for all stations beyond NP-4 and excluding NP-14"
   ]
  },
  {
   "cell_type": "markdown",
   "metadata": {},
   "source": [
    "1. Load data for one station\n",
    "2. Drop rows with missing wind speed and air temperature values\n",
    "3. Calculate monthly data\n",
    "4. Calculate annual data"
   ]
  },
  {
   "cell_type": "code",
   "execution_count": 3,
   "metadata": {},
   "outputs": [],
   "source": [
    "def monthly_dataframe(df):\n",
    "    dfMon = pd.DataFrame({\n",
    "        'ND': df.PRECIP.resample('MS').count(),\n",
    "        'Tmn': df.TAIR.resample('MS', label='left').mean(),\n",
    "        'Ug': df.Ug.resample('MS', label='left').mean(),\n",
    "        'DP': df.PRECIP[df.PRECIP > 0.].resample('MS').count(),\n",
    "        'Dtc': df.PRECIP[df.PRECIP == 0.].resample('MS').count(),\n",
    "        'Pg': df.PRECIP[df.PRECIP > 0].resample('MS').sum(),\n",
    "        'Ptc': df.Ptrace.resample('MS').sum(),\n",
    "        'Pwind': df.Pwind.resample('MS').sum(),\n",
    "        'Pcorr': df.Pcorr.resample('MS').sum(),\n",
    "        'Psnow': df.Psnow.resample('MS').sum(),\n",
    "        })\n",
    "    return dfMon\n",
    "\n",
    "def annual_dataframe(df):\n",
    "    dfAnn = pd.DataFrame({\n",
    "        'ND': df.ND.resample('AS').sum(min_count=12),\n",
    "        'Tmn': df.Tmn.resample('AS').mean(),\n",
    "        'Ug': df.Ug.resample('AS').mean(),\n",
    "        'DP': df.DP.resample('AS').sum(min_count=12),\n",
    "        'Dtc': df.Dtc.resample('AS').sum(min_count=12),\n",
    "        'Pg': df.Pg.resample('AS').sum(min_count=12),\n",
    "        'Ptc': df.Ptc.resample('AS').sum(min_count=12),\n",
    "        'Pwind': df.Ptc.resample('AS').sum(min_count=12),\n",
    "        'Pcorr': df.Pcorr.resample('AS').sum(min_count=12),\n",
    "        'Psnow': df.Psnow.resample('AS').sum(min_count=12),\n",
    "        })\n",
    "    return dfAnn\n",
    "\n",
    "def process_station(sid):\n",
    "    df = merge_one_station(sid, set_noprecip=False)\n",
    "    df = df.dropna(axis=0, subset=['WSPD', 'TAIR', 'PRECIP', 'PTYPE'])\n",
    "    df['Ptrace'] = np.where((df['PRECIP'] == 0.) & (df['PTYPE'] > 0.), 0.1, 0.)  # Set trace precipitation were PRECIP == 0\n",
    "    df['PRECIP'] = df['PRECIP'].where(df['PRECIP'] > 0., 0.)\n",
    "    df['PTYPE'] = df['PTYPE'].where(df['PTYPE'] > 0., 0.)\n",
    "\n",
    "    dfMon = monthly_dataframe(df)\n",
    "    dfMon['StationID'] = int(sid)\n",
    "    dfAnn = annual_dataframe(dfMon)\n",
    "    dfAnn['StationID'] = int(sid)\n",
    "    dfAnn = dfAnn.dropna(axis=0)\n",
    "    \n",
    "    return dfAnn.reset_index()\n",
    "\n",
    "# Add dropna to proc\n",
    "# Add station number\n",
    "# Reset index \n",
    "\n",
    "def plot_trajectory(lon, lat, lon2, lat2):\n",
    "    \n",
    "    map_proj = ccrs.NorthPolarStereo()\n",
    "\n",
    "    fig = plt.figure(figsize=(10,10))\n",
    "    ax = plt.subplot(projection=map_proj)\n",
    "    ax.set_extent([-180., 180., 72., 90.], ccrs.PlateCarree())\n",
    "    ax.add_feature(cfeature.LAND)\n",
    "    ax.add_feature(cfeature.COASTLINE)\n",
    "\n",
    "    pts = map_proj.transform_points(ccrs.PlateCarree(), lon, lat)\n",
    "    xm = pts[:,0]\n",
    "    ym = pts[:,1]\n",
    "\n",
    "    pts = map_proj.transform_points(ccrs.PlateCarree(), lon2, lat2)\n",
    "    xu = pts[:,0]\n",
    "    yu = pts[:,1]\n",
    "\n",
    "    ax.plot(xm, ym, label='Raw')\n",
    "    ax.plot(xu, yu, label='Daily')\n",
    "\n",
    "    ax.legend()"
   ]
  },
  {
   "cell_type": "markdown",
   "metadata": {},
   "source": [
    "## Merge met and precip data, replace coordinates with updated coords and write to file"
   ]
  },
  {
   "cell_type": "code",
   "execution_count": 17,
   "metadata": {},
   "outputs": [],
   "source": [
    "def combine_dataframe(station):\n",
    "    '''\n",
    "    Merges met and precip data, and replaces coordinates with updated coordinates\n",
    "    \n",
    "    Coordinates are interpolated if they are missing\n",
    "    \n",
    "    station - station id\n",
    "    \n",
    "    Returns: pandas dataframe\n",
    "    '''\n",
    "    df = merge_one_station(str(station), set_noprecip=False)  # Merge met and precip data\n",
    "    df.index = df.index.shift(12, freq='H')  # Assign daily met to 12:00:00h\n",
    "\n",
    "    df_pos = npsnow.read_position(os.path.join(DATADIR, 'updated_position', f'position.{station:02d}'))\n",
    "    df_pos = df_pos.sort_index()\n",
    "    # Need to revisit updated_coordinates and remove duplicates, but deal with it here for now\n",
    "    df_pos = df_pos.drop_duplicates(keep='first')\n",
    "    df_pos = df_pos[~df_pos.index.duplicated(keep=False)]  # Handles case where index duplicated but values are different\n",
    "\n",
    "    waypoints = trajectory.to_waypoints(df_pos)\n",
    "    np_drift = trajectory.Trajectory(waypoints)\n",
    "    df_np_drift = np_drift.interpolate_by_date(df.index).to_dataframe()\n",
    "    \n",
    "    df = df.join(df_np_drift, rsuffix='_new')\n",
    "    df = df.drop(['Latitude', 'Longitude'], axis=1).rename({'Longitude_new': 'Longitude', 'Latitude_new': 'Latitude'}, axis=1)\n",
    "    \n",
    "    return df\n"
   ]
  },
  {
   "cell_type": "code",
   "execution_count": 19,
   "metadata": {},
   "outputs": [
    {
     "name": "stdout",
     "output_type": "stream",
     "text": [
      "Processing station 22\n",
      "Processing station 24\n",
      "Processing station 25\n",
      "Processing station 26\n",
      "Processing station 28\n",
      "Processing station 29\n",
      "Processing station 30\n",
      "Processing station 31\n"
     ]
    }
   ],
   "source": [
    "for station in [22,24,25,26,28,29,30,31]:\n",
    "    print(f'Processing station {station:02d}')\n",
    "    df = combine_dataframe(station)\n",
    "    df.to_csv(os.path.join('/home/apbarret/Data/NPSNOW/my_combined_met',f'npmet_{station:02d}_combined.csv'))\n",
    "    \n",
    "#plot_trajectory(df.Longitude.values, df.Latitude.values, df.Longitude_new.values, df.Latitude_new.values)"
   ]
  },
  {
   "cell_type": "code",
   "execution_count": 7,
   "metadata": {},
   "outputs": [
    {
     "data": {
      "text/html": [
       "<div>\n",
       "<style scoped>\n",
       "    .dataframe tbody tr th:only-of-type {\n",
       "        vertical-align: middle;\n",
       "    }\n",
       "\n",
       "    .dataframe tbody tr th {\n",
       "        vertical-align: top;\n",
       "    }\n",
       "\n",
       "    .dataframe thead th {\n",
       "        text-align: right;\n",
       "    }\n",
       "</style>\n",
       "<table border=\"1\" class=\"dataframe\">\n",
       "  <thead>\n",
       "    <tr style=\"text-align: right;\">\n",
       "      <th></th>\n",
       "      <th>Station_ID</th>\n",
       "      <th>Latitude</th>\n",
       "      <th>Longitude</th>\n",
       "      <th>TAIR</th>\n",
       "      <th>RH</th>\n",
       "      <th>SLP</th>\n",
       "      <th>WDIR</th>\n",
       "      <th>WSPD</th>\n",
       "      <th>TOTCLD</th>\n",
       "      <th>LOWCLD</th>\n",
       "      <th>TSURF</th>\n",
       "      <th>TMIN</th>\n",
       "      <th>TMAX</th>\n",
       "      <th>PRECIP</th>\n",
       "      <th>PTYPE</th>\n",
       "      <th>SDEPTH</th>\n",
       "      <th>Ug</th>\n",
       "      <th>Longitude_new</th>\n",
       "      <th>Latitude_new</th>\n",
       "    </tr>\n",
       "  </thead>\n",
       "  <tbody>\n",
       "    <tr>\n",
       "      <th>1973-10-01 12:00:00</th>\n",
       "      <td>22.0</td>\n",
       "      <td>NaN</td>\n",
       "      <td>NaN</td>\n",
       "      <td>-17.90</td>\n",
       "      <td>83.25</td>\n",
       "      <td>1007.975</td>\n",
       "      <td>125.0</td>\n",
       "      <td>9.00</td>\n",
       "      <td>5.00</td>\n",
       "      <td>0.0</td>\n",
       "      <td>-18.25</td>\n",
       "      <td>-20.7</td>\n",
       "      <td>-15.3</td>\n",
       "      <td>-9.9</td>\n",
       "      <td>-9</td>\n",
       "      <td>18.0</td>\n",
       "      <td>6.780214</td>\n",
       "      <td>-173.825672</td>\n",
       "      <td>75.826067</td>\n",
       "    </tr>\n",
       "    <tr>\n",
       "      <th>1973-10-02 12:00:00</th>\n",
       "      <td>22.0</td>\n",
       "      <td>NaN</td>\n",
       "      <td>NaN</td>\n",
       "      <td>-15.35</td>\n",
       "      <td>85.25</td>\n",
       "      <td>1017.100</td>\n",
       "      <td>355.0</td>\n",
       "      <td>4.25</td>\n",
       "      <td>5.00</td>\n",
       "      <td>5.0</td>\n",
       "      <td>-16.25</td>\n",
       "      <td>-20.5</td>\n",
       "      <td>-8.1</td>\n",
       "      <td>0.2</td>\n",
       "      <td>1</td>\n",
       "      <td>19.0</td>\n",
       "      <td>3.198378</td>\n",
       "      <td>-174.067214</td>\n",
       "      <td>75.912222</td>\n",
       "    </tr>\n",
       "    <tr>\n",
       "      <th>1973-10-03 12:00:00</th>\n",
       "      <td>22.0</td>\n",
       "      <td>NaN</td>\n",
       "      <td>NaN</td>\n",
       "      <td>-10.45</td>\n",
       "      <td>92.25</td>\n",
       "      <td>1020.675</td>\n",
       "      <td>147.5</td>\n",
       "      <td>3.25</td>\n",
       "      <td>10.00</td>\n",
       "      <td>5.0</td>\n",
       "      <td>-10.75</td>\n",
       "      <td>-11.2</td>\n",
       "      <td>-9.7</td>\n",
       "      <td>0.2</td>\n",
       "      <td>1</td>\n",
       "      <td>19.0</td>\n",
       "      <td>2.445818</td>\n",
       "      <td>-174.311663</td>\n",
       "      <td>75.998133</td>\n",
       "    </tr>\n",
       "    <tr>\n",
       "      <th>1973-10-04 12:00:00</th>\n",
       "      <td>22.0</td>\n",
       "      <td>76.1055</td>\n",
       "      <td>-174.61950</td>\n",
       "      <td>-15.95</td>\n",
       "      <td>86.00</td>\n",
       "      <td>1018.275</td>\n",
       "      <td>90.0</td>\n",
       "      <td>5.50</td>\n",
       "      <td>0.00</td>\n",
       "      <td>0.0</td>\n",
       "      <td>-17.00</td>\n",
       "      <td>-18.7</td>\n",
       "      <td>-12.1</td>\n",
       "      <td>0.2</td>\n",
       "      <td>1</td>\n",
       "      <td>19.0</td>\n",
       "      <td>4.139077</td>\n",
       "      <td>-174.558677</td>\n",
       "      <td>76.083860</td>\n",
       "    </tr>\n",
       "    <tr>\n",
       "      <th>1973-10-05 12:00:00</th>\n",
       "      <td>22.0</td>\n",
       "      <td>76.1700</td>\n",
       "      <td>-174.80425</td>\n",
       "      <td>-13.40</td>\n",
       "      <td>88.75</td>\n",
       "      <td>1019.625</td>\n",
       "      <td>110.0</td>\n",
       "      <td>6.75</td>\n",
       "      <td>7.75</td>\n",
       "      <td>7.5</td>\n",
       "      <td>-13.50</td>\n",
       "      <td>-17.6</td>\n",
       "      <td>-10.0</td>\n",
       "      <td>0.5</td>\n",
       "      <td>1</td>\n",
       "      <td>19.0</td>\n",
       "      <td>5.079777</td>\n",
       "      <td>-174.804419</td>\n",
       "      <td>76.170045</td>\n",
       "    </tr>\n",
       "  </tbody>\n",
       "</table>\n",
       "</div>"
      ],
      "text/plain": [
       "                     Station_ID  Latitude  Longitude   TAIR     RH       SLP  \\\n",
       "1973-10-01 12:00:00        22.0       NaN        NaN -17.90  83.25  1007.975   \n",
       "1973-10-02 12:00:00        22.0       NaN        NaN -15.35  85.25  1017.100   \n",
       "1973-10-03 12:00:00        22.0       NaN        NaN -10.45  92.25  1020.675   \n",
       "1973-10-04 12:00:00        22.0   76.1055 -174.61950 -15.95  86.00  1018.275   \n",
       "1973-10-05 12:00:00        22.0   76.1700 -174.80425 -13.40  88.75  1019.625   \n",
       "\n",
       "                      WDIR  WSPD  TOTCLD  LOWCLD  TSURF  TMIN  TMAX  PRECIP  \\\n",
       "1973-10-01 12:00:00  125.0  9.00    5.00     0.0 -18.25 -20.7 -15.3    -9.9   \n",
       "1973-10-02 12:00:00  355.0  4.25    5.00     5.0 -16.25 -20.5  -8.1     0.2   \n",
       "1973-10-03 12:00:00  147.5  3.25   10.00     5.0 -10.75 -11.2  -9.7     0.2   \n",
       "1973-10-04 12:00:00   90.0  5.50    0.00     0.0 -17.00 -18.7 -12.1     0.2   \n",
       "1973-10-05 12:00:00  110.0  6.75    7.75     7.5 -13.50 -17.6 -10.0     0.5   \n",
       "\n",
       "                     PTYPE  SDEPTH        Ug  Longitude_new  Latitude_new  \n",
       "1973-10-01 12:00:00     -9    18.0  6.780214    -173.825672     75.826067  \n",
       "1973-10-02 12:00:00      1    19.0  3.198378    -174.067214     75.912222  \n",
       "1973-10-03 12:00:00      1    19.0  2.445818    -174.311663     75.998133  \n",
       "1973-10-04 12:00:00      1    19.0  4.139077    -174.558677     76.083860  \n",
       "1973-10-05 12:00:00      1    19.0  5.079777    -174.804419     76.170045  "
      ]
     },
     "execution_count": 7,
     "metadata": {},
     "output_type": "execute_result"
    }
   ],
   "source": [
    "df.head()"
   ]
  },
  {
   "cell_type": "markdown",
   "metadata": {},
   "source": [
    "## Identify days with trace precipitation\n",
    "Yang sets daily trace precipitation to 0.1 mm"
   ]
  },
  {
   "cell_type": "code",
   "execution_count": null,
   "metadata": {},
   "outputs": [],
   "source": [
    "df['Ptrace'] = np.where((df['PRECIP'] == 0.) & (df['PTYPE'] > 0.), 0.1, 0.)  # Set trace precipitation were PRECIP == 0\n",
    "df['PRECIP'] = df['PRECIP'].where((df['PRECIP'].isna()) | (df['PRECIP'] > 0.), 0.)  # Set -9.9 to zero (no precip) but leave NaN\n",
    "df['PTYPE'] = df['PTYPE'].where((df['PTYPE'].isna()) | (df['PTYPE'] > 0.), 0.)  # ditto\n",
    "df['Psnow'] = df['PRECIP'].where(df['PTYPE'] == 1, 0.)"
   ]
  },
  {
   "cell_type": "markdown",
   "metadata": {},
   "source": [
    "## Calculate wind correction\n",
    "\n",
    "### Catch ratios from Yang et al (1995)\n",
    "Snow\n",
    "$$R = 103.10 - 8.67 W_s + 0.30 T_{max}$$\n",
    "Snow and Rain\n",
    "$$R = 98.56 - 6.19 W_s + 0.90 T_{max}$$\n",
    "Rain and Snow\n",
    "$$R = 98.13 - 3.17 W_s + 0.60 T_{min}$$\n",
    "Rain\n",
    "$$R = 99.99 - 4.77 W_s^{0.56}$$"
   ]
  },
  {
   "cell_type": "code",
   "execution_count": null,
   "metadata": {},
   "outputs": [],
   "source": [
    "def cr_snow(x):\n",
    "    \"\"\"Catch Ratio for snow\"\"\"\n",
    "    return 103.11 - 8.67*x.Ug + 0.3*x.TMAX\n",
    "\n",
    "def cr_mixed(x):\n",
    "    \"\"\"Catch ratio for mixed precipitation\"\"\"\n",
    "    return 96.99 -4.46*x.Ug + 0.88*x.TMAX + 0.22*x.TMIN\n",
    "\n",
    "def cr_rain(x):\n",
    "    \"\"\"Catch ratio for rain\"\"\"\n",
    "    return 99.99 - 4.77*(x.Ug**0.56)\n",
    "\n",
    "catch_ratio = {\n",
    "    1: cr_snow,\n",
    "    2: cr_mixed,\n",
    "    3: cr_rain,\n",
    "    0: 0.\n",
    "}\n",
    "\n",
    "def wind_correction(x):\n",
    "    if x[['PRECIP', 'PTYPE', 'Ug', 'TMAX', 'TMIN']].isna().any():\n",
    "        return np.nan\n",
    "    if x.PRECIP == 0.:\n",
    "        return 0.\n",
    "    #if x.Ug > 6.:\n",
    "    #    return 0.  # Yang does not apply correction for wind speeds above 6 m/s\n",
    "    cr_function = catch_ratio.get(x['PTYPE'], None)\n",
    "    try:\n",
    "        cr = cr_function(x)\n",
    "    except TypeError:\n",
    "        print (f'Unexpected PTYPE {x.PTYPE}')\n",
    "    k = 100./cr\n",
    "    return x.PRECIP * (k - 1.)\n",
    "    "
   ]
  },
  {
   "cell_type": "markdown",
   "metadata": {},
   "source": [
    "## Test wind correction function"
   ]
  },
  {
   "cell_type": "markdown",
   "metadata": {},
   "source": [
    "df_test = pd.DataFrame({'PRECIP': [np.nan, 0.0, 0.2, 3.0, 1.6, 2.0],\n",
    "                        'PTYPE': [np.nan, 0, 1, 2, 3, -9],\n",
    "                        'Ug': [4.5, 2.0, np.nan, 3.0, 4.0, 7.0],\n",
    "                        'TMAX': [-15., -10., -1., 1., -20., -23.],\n",
    "                        'TMIN': [-20., -18., -9., -5., -29., -30.]})\n",
    "df_test.apply(wind_correction, axis=1)"
   ]
  },
  {
   "cell_type": "markdown",
   "metadata": {},
   "source": [
    "Ug, TMAX, TMIN = 7.0, -23., -30.\n",
    "cr = 103.11 - 8.67*Ug + 0.3*TMAX\n",
    "k = 100./cr\n",
    "print (cr, k, k-1)"
   ]
  },
  {
   "cell_type": "markdown",
   "metadata": {},
   "source": [
    "## Apply to merged DataFrame"
   ]
  },
  {
   "cell_type": "code",
   "execution_count": null,
   "metadata": {},
   "outputs": [],
   "source": [
    "df['Pwind'] = df.apply(wind_correction, axis=1)\n",
    "df['Pcorr'] = df['PRECIP'] + df['Ptrace'] + df['Pwind']"
   ]
  },
  {
   "cell_type": "code",
   "execution_count": null,
   "metadata": {},
   "outputs": [],
   "source": [
    "df.head()"
   ]
  },
  {
   "cell_type": "markdown",
   "metadata": {},
   "source": [
    "## Calculate monthly data"
   ]
  },
  {
   "cell_type": "code",
   "execution_count": null,
   "metadata": {},
   "outputs": [],
   "source": [
    "dfMon = monthly_dataframe(df)\n",
    "dfMon['DaysInMonth'] = [calendar.monthrange(time.year, time.month)[1] for time in dfMon.index]\n",
    "dfMon = dfMon[dfMon.ND == dfMon.DaysInMonth].drop('DaysInMonth', axis=1)\n",
    "dfMon['Fsnow'] = dfMon['Psnow'] / dfMon['Pg']\n",
    "dfMon"
   ]
  },
  {
   "cell_type": "code",
   "execution_count": null,
   "metadata": {},
   "outputs": [],
   "source": [
    "dfAnn = annual_dataframe(dfMon)\n",
    "dfAnn['Fsnow'] = dfAnn['Psnow'] / dfAnn['Pg']\n",
    "dfAnn.dropna()"
   ]
  },
  {
   "cell_type": "markdown",
   "metadata": {},
   "source": [
    "## Compare with Yang"
   ]
  },
  {
   "cell_type": "code",
   "execution_count": null,
   "metadata": {},
   "outputs": [],
   "source": [
    "yang_diri = '/home/apbarret/Data/NPSNOW/yang_precip'\n",
    "yangMon = npsnow.read_yang_updated(os.path.join(yang_diri, f'yang_np_precip_updated_coords_{sid}.csv'))\n",
    "yangMon.index = yangMon.Date\n",
    "#yangMon.index = yangMon.index.shift(12, freq='H')\n",
    "yangMon = yangMon.drop('Date', axis=1)\n",
    "yangMon"
   ]
  },
  {
   "cell_type": "code",
   "execution_count": null,
   "metadata": {},
   "outputs": [],
   "source": [
    "x = yangMon.join(dfMon, rsuffix='_new')\n",
    "x"
   ]
  },
  {
   "cell_type": "code",
   "execution_count": null,
   "metadata": {},
   "outputs": [],
   "source": [
    "x.columns"
   ]
  },
  {
   "cell_type": "code",
   "execution_count": null,
   "metadata": {},
   "outputs": [],
   "source": [
    "fig, ax = plt.subplots(2, 2, figsize=(15,15))\n",
    "\n",
    "for iax, xname, yname in zip(ax.flatten(), ['Pg', 'traceC', 'windC', 'Pc'], ['Pg_new', 'Ptc', 'Pwind', 'Pcorr']):\n",
    "    x.plot(kind='scatter', x=xname, y=yname, ax=iax)\n",
    "    xmax = x[[xname, yname]].max().max()\n",
    "    iax.set_xlim(0, xmax)\n",
    "    iax.set_ylim(0.,xmax)\n",
    "    iax.set_aspect('equal')\n",
    "    iax.plot([0.,xmax], [0.,xmax], c='0.5')"
   ]
  },
  {
   "cell_type": "code",
   "execution_count": null,
   "metadata": {},
   "outputs": [],
   "source": []
  }
 ],
 "metadata": {
  "kernelspec": {
   "display_name": "Python 3",
   "language": "python",
   "name": "python3"
  },
  "language_info": {
   "codemirror_mode": {
    "name": "ipython",
    "version": 3
   },
   "file_extension": ".py",
   "mimetype": "text/x-python",
   "name": "python",
   "nbconvert_exporter": "python",
   "pygments_lexer": "ipython3",
   "version": "3.7.3"
  }
 },
 "nbformat": 4,
 "nbformat_minor": 2
}
