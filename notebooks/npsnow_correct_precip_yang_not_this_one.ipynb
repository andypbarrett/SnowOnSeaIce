{
 "cells": [
  {
   "cell_type": "markdown",
   "metadata": {},
   "source": [
    "# Correct NP precipitation following Yang\n",
    "\n",
    "The notebook describes the algorithms to correct precipitation from North Pole drifting stations following the WMO approach described in Goodison et al (1998) and Yang (1999)."
   ]
  },
  {
   "cell_type": "code",
   "execution_count": 1,
   "metadata": {},
   "outputs": [],
   "source": [
    "%matplotlib inline"
   ]
  },
  {
   "cell_type": "code",
   "execution_count": 2,
   "metadata": {},
   "outputs": [],
   "source": [
    "import sys\n",
    "sys.path.append('../source')\n",
    "\n",
    "import glob\n",
    "import os\n",
    "import numpy as np\n",
    "import pandas as pd\n",
    "import matplotlib.pyplot as plt\n",
    "\n",
    "import readers.npsnow as npsnow\n",
    "import utilities.correction as npcorr\n",
    "from merge_npsnow_data import get_station_list, met_filename, get_precip, plot_station_met, merge_one_station"
   ]
  },
  {
   "cell_type": "markdown",
   "metadata": {},
   "source": [
    "## Data\n",
    "I use raw data from the NP drifting stations.  I have produced my own combined files that combine precipitation and meteorological observations.  These files are stored in /home/apbarret/Data/NPSNOW/my_combined_met\n",
    "\n",
    "- TAIR - 2m air temperature\n",
    "- RH - Relative humidity at 2m\n",
    "- SLP - Sea level pressure\n",
    "- WDIR - wind direction\n",
    "- WSPD - wind speed m/s\n",
    "- TOTCLD - total cloud cover\n",
    "- LOWCLD - low cloud cover\n",
    "- TSURF - surface temperature\n",
    "- PRECIP - precipitation amount in mm  0 = Trace, when PTYPE != 0\n",
    "- PTYPE - precipitation type\n",
    "  - 1 - solid precipitation\n",
    "  - 2 - mixed phase (rain/snow)\n",
    "  - 3 - rain\n",
    "- SDEPTH - snow depth"
   ]
  },
  {
   "cell_type": "code",
   "execution_count": 3,
   "metadata": {},
   "outputs": [
    {
     "data": {
      "text/plain": [
       "['/home/apbarret/Data/NPSNOW/my_combined_met/npmet_29_combined.csv',\n",
       " '/home/apbarret/Data/NPSNOW/my_combined_met/npmet_31_combined.csv',\n",
       " '/home/apbarret/Data/NPSNOW/my_combined_met/npmet_26_combined.csv',\n",
       " '/home/apbarret/Data/NPSNOW/my_combined_met/npmet_24_combined.csv',\n",
       " '/home/apbarret/Data/NPSNOW/my_combined_met/npmet_25_combined.csv',\n",
       " '/home/apbarret/Data/NPSNOW/my_combined_met/npmet_22_combined.csv',\n",
       " '/home/apbarret/Data/NPSNOW/my_combined_met/npmet_28_combined.csv',\n",
       " '/home/apbarret/Data/NPSNOW/my_combined_met/npmet_30_combined.csv']"
      ]
     },
     "execution_count": 3,
     "metadata": {},
     "output_type": "execute_result"
    }
   ],
   "source": [
    "data_dir = '/home/apbarret/Data/NPSNOW/my_combined_met'\n",
    "filelist = glob.glob(os.path.join(data_dir, 'npmet_??_combined.csv'))\n",
    "filelist"
   ]
  },
  {
   "cell_type": "markdown",
   "metadata": {},
   "source": [
    "_Add description of data_"
   ]
  },
  {
   "cell_type": "code",
   "execution_count": 24,
   "metadata": {},
   "outputs": [
    {
     "data": {
      "text/html": [
       "<div>\n",
       "<style scoped>\n",
       "    .dataframe tbody tr th:only-of-type {\n",
       "        vertical-align: middle;\n",
       "    }\n",
       "\n",
       "    .dataframe tbody tr th {\n",
       "        vertical-align: top;\n",
       "    }\n",
       "\n",
       "    .dataframe thead th {\n",
       "        text-align: right;\n",
       "    }\n",
       "</style>\n",
       "<table border=\"1\" class=\"dataframe\">\n",
       "  <thead>\n",
       "    <tr style=\"text-align: right;\">\n",
       "      <th></th>\n",
       "      <th>Datetime</th>\n",
       "      <th>Station_ID</th>\n",
       "      <th>TAIR</th>\n",
       "      <th>RH</th>\n",
       "      <th>SLP</th>\n",
       "      <th>WDIR</th>\n",
       "      <th>WSPD</th>\n",
       "      <th>TOTCLD</th>\n",
       "      <th>LOWCLD</th>\n",
       "      <th>TSURF</th>\n",
       "      <th>TMIN</th>\n",
       "      <th>TMAX</th>\n",
       "      <th>PRECIP</th>\n",
       "      <th>PTYPE</th>\n",
       "      <th>SDEPTH</th>\n",
       "      <th>Ug</th>\n",
       "      <th>Longitude</th>\n",
       "      <th>Latitude</th>\n",
       "    </tr>\n",
       "  </thead>\n",
       "  <tbody>\n",
       "    <tr>\n",
       "      <th>0</th>\n",
       "      <td>1987-07-01 12:00:00</td>\n",
       "      <td>29.0</td>\n",
       "      <td>-0.4875</td>\n",
       "      <td>96.000</td>\n",
       "      <td>1023.4250</td>\n",
       "      <td>113.125</td>\n",
       "      <td>2.500</td>\n",
       "      <td>8.750000</td>\n",
       "      <td>7.000000</td>\n",
       "      <td>NaN</td>\n",
       "      <td>-1.4</td>\n",
       "      <td>0.2</td>\n",
       "      <td>0.0</td>\n",
       "      <td>3.0</td>\n",
       "      <td>0.0</td>\n",
       "      <td>1.917525</td>\n",
       "      <td>111.601616</td>\n",
       "      <td>80.514878</td>\n",
       "    </tr>\n",
       "    <tr>\n",
       "      <th>1</th>\n",
       "      <td>1987-07-02 12:00:00</td>\n",
       "      <td>29.0</td>\n",
       "      <td>0.1500</td>\n",
       "      <td>93.125</td>\n",
       "      <td>1026.3375</td>\n",
       "      <td>47.500</td>\n",
       "      <td>4.000</td>\n",
       "      <td>7.800000</td>\n",
       "      <td>3.571429</td>\n",
       "      <td>NaN</td>\n",
       "      <td>-0.7</td>\n",
       "      <td>1.1</td>\n",
       "      <td>0.3</td>\n",
       "      <td>3.0</td>\n",
       "      <td>0.0</td>\n",
       "      <td>3.068040</td>\n",
       "      <td>111.300398</td>\n",
       "      <td>80.530995</td>\n",
       "    </tr>\n",
       "    <tr>\n",
       "      <th>2</th>\n",
       "      <td>1987-07-03 12:00:00</td>\n",
       "      <td>29.0</td>\n",
       "      <td>0.2500</td>\n",
       "      <td>95.750</td>\n",
       "      <td>1020.6500</td>\n",
       "      <td>64.375</td>\n",
       "      <td>4.375</td>\n",
       "      <td>8.250000</td>\n",
       "      <td>0.750000</td>\n",
       "      <td>NaN</td>\n",
       "      <td>-1.2</td>\n",
       "      <td>1.3</td>\n",
       "      <td>0.4</td>\n",
       "      <td>3.0</td>\n",
       "      <td>0.0</td>\n",
       "      <td>3.355669</td>\n",
       "      <td>110.907852</td>\n",
       "      <td>80.564462</td>\n",
       "    </tr>\n",
       "    <tr>\n",
       "      <th>3</th>\n",
       "      <td>1987-07-04 12:00:00</td>\n",
       "      <td>29.0</td>\n",
       "      <td>0.0875</td>\n",
       "      <td>96.000</td>\n",
       "      <td>1018.4625</td>\n",
       "      <td>94.375</td>\n",
       "      <td>5.875</td>\n",
       "      <td>9.666667</td>\n",
       "      <td>9.666667</td>\n",
       "      <td>NaN</td>\n",
       "      <td>0.0</td>\n",
       "      <td>0.3</td>\n",
       "      <td>-9.9</td>\n",
       "      <td>-9.0</td>\n",
       "      <td>0.0</td>\n",
       "      <td>4.506184</td>\n",
       "      <td>110.529478</td>\n",
       "      <td>80.611184</td>\n",
       "    </tr>\n",
       "    <tr>\n",
       "      <th>4</th>\n",
       "      <td>1987-07-05 12:00:00</td>\n",
       "      <td>29.0</td>\n",
       "      <td>0.1625</td>\n",
       "      <td>99.000</td>\n",
       "      <td>1012.9250</td>\n",
       "      <td>145.625</td>\n",
       "      <td>3.000</td>\n",
       "      <td>10.000000</td>\n",
       "      <td>9.333333</td>\n",
       "      <td>NaN</td>\n",
       "      <td>-0.5</td>\n",
       "      <td>0.5</td>\n",
       "      <td>0.3</td>\n",
       "      <td>3.0</td>\n",
       "      <td>0.0</td>\n",
       "      <td>2.301030</td>\n",
       "      <td>110.258376</td>\n",
       "      <td>80.667667</td>\n",
       "    </tr>\n",
       "  </tbody>\n",
       "</table>\n",
       "</div>"
      ],
      "text/plain": [
       "              Datetime  Station_ID    TAIR      RH        SLP     WDIR   WSPD  \\\n",
       "0  1987-07-01 12:00:00        29.0 -0.4875  96.000  1023.4250  113.125  2.500   \n",
       "1  1987-07-02 12:00:00        29.0  0.1500  93.125  1026.3375   47.500  4.000   \n",
       "2  1987-07-03 12:00:00        29.0  0.2500  95.750  1020.6500   64.375  4.375   \n",
       "3  1987-07-04 12:00:00        29.0  0.0875  96.000  1018.4625   94.375  5.875   \n",
       "4  1987-07-05 12:00:00        29.0  0.1625  99.000  1012.9250  145.625  3.000   \n",
       "\n",
       "      TOTCLD    LOWCLD  TSURF  TMIN  TMAX  PRECIP  PTYPE  SDEPTH        Ug  \\\n",
       "0   8.750000  7.000000    NaN  -1.4   0.2     0.0    3.0     0.0  1.917525   \n",
       "1   7.800000  3.571429    NaN  -0.7   1.1     0.3    3.0     0.0  3.068040   \n",
       "2   8.250000  0.750000    NaN  -1.2   1.3     0.4    3.0     0.0  3.355669   \n",
       "3   9.666667  9.666667    NaN   0.0   0.3    -9.9   -9.0     0.0  4.506184   \n",
       "4  10.000000  9.333333    NaN  -0.5   0.5     0.3    3.0     0.0  2.301030   \n",
       "\n",
       "    Longitude   Latitude  \n",
       "0  111.601616  80.514878  \n",
       "1  111.300398  80.530995  \n",
       "2  110.907852  80.564462  \n",
       "3  110.529478  80.611184  \n",
       "4  110.258376  80.667667  "
      ]
     },
     "execution_count": 24,
     "metadata": {},
     "output_type": "execute_result"
    }
   ],
   "source": [
    "#df = npsnow.read_my_combined(filelist[0])\n",
    "df = pd.concat([pd.read_csv(f, header=0, parse_dates=True) for f in filelist])\n",
    "df.rename({'Unnamed: 0': 'Datetime'}, axis=1, inplace=True)\n",
    "df.head()"
   ]
  },
  {
   "cell_type": "code",
   "execution_count": 36,
   "metadata": {},
   "outputs": [
    {
     "data": {
      "text/plain": [
       "str"
      ]
     },
     "execution_count": 36,
     "metadata": {},
     "output_type": "execute_result"
    }
   ],
   "source": [
    "type(df.Datetime.values[0])"
   ]
  },
  {
   "cell_type": "code",
   "execution_count": 29,
   "metadata": {},
   "outputs": [],
   "source": [
    "df_table = df.pivot(index='Datetime', columns='Station_ID', values='PRECIP')"
   ]
  },
  {
   "cell_type": "code",
   "execution_count": 30,
   "metadata": {},
   "outputs": [
    {
     "data": {
      "text/plain": [
       "Index(['1973-10-01 12:00:00', '1973-10-02 12:00:00', '1973-10-03 12:00:00',\n",
       "       '1973-10-04 12:00:00', '1973-10-05 12:00:00', '1973-10-06 12:00:00',\n",
       "       '1973-10-07 12:00:00', '1973-10-08 12:00:00', '1973-10-09 12:00:00',\n",
       "       '1973-10-10 12:00:00',\n",
       "       ...\n",
       "       '1991-03-22 12:00:00', '1991-03-23 12:00:00', '1991-03-24 12:00:00',\n",
       "       '1991-03-25 12:00:00', '1991-03-26 12:00:00', '1991-03-27 12:00:00',\n",
       "       '1991-03-28 12:00:00', '1991-03-29 12:00:00', '1991-03-30 12:00:00',\n",
       "       '1991-03-31 12:00:00'],\n",
       "      dtype='object', name='Datetime', length=6299)"
      ]
     },
     "execution_count": 30,
     "metadata": {},
     "output_type": "execute_result"
    }
   ],
   "source": [
    "df_table.index"
   ]
  },
  {
   "cell_type": "markdown",
   "metadata": {},
   "source": [
    "## Merge met and precip data  - ***This is not required***\n",
    "The met and precip files are resampled and merged into a single dataframe.  Daily maximum and minimum air temperatures are also added to the structure.  "
   ]
  },
  {
   "cell_type": "markdown",
   "metadata": {},
   "source": [
    "sid = '21'\n",
    "met = npsnow.read_met(met_filename(sid))\n",
    "precDay = get_precip(sid) \n",
    "metDay = met.resample('D').mean()\n",
    "metDay['TMIN'] = met['TAIR'].resample('D').min()\n",
    "metDay['TMAX'] = met['TAIR'].resample('D').max()\n",
    "merged_df = pd.concat([metDay,precDay], axis=1, sort=False)\n",
    "merged_df = merged_df.rename({'amount': 'PRECIP', 'type': 'PTYPE'}, axis=1)\n",
    "df = merged_df.drop('statid', axis=1)\n",
    "df['Ug'] = df.apply(wind_at_gauge, axis=1)\n",
    "df.head()"
   ]
  },
  {
   "cell_type": "markdown",
   "metadata": {},
   "source": [
    "## Generate table to match Yang monthly tables - wind correction, trace correction and corrected precip left as Nan"
   ]
  },
  {
   "cell_type": "code",
   "execution_count": 7,
   "metadata": {},
   "outputs": [
    {
     "data": {
      "text/html": [
       "<div>\n",
       "<style scoped>\n",
       "    .dataframe tbody tr th:only-of-type {\n",
       "        vertical-align: middle;\n",
       "    }\n",
       "\n",
       "    .dataframe tbody tr th {\n",
       "        vertical-align: top;\n",
       "    }\n",
       "\n",
       "    .dataframe thead th {\n",
       "        text-align: right;\n",
       "    }\n",
       "</style>\n",
       "<table border=\"1\" class=\"dataframe\">\n",
       "  <thead>\n",
       "    <tr style=\"text-align: right;\">\n",
       "      <th></th>\n",
       "      <th>ND</th>\n",
       "      <th>Tmn</th>\n",
       "      <th>Ug</th>\n",
       "      <th>DP</th>\n",
       "      <th>Dtc</th>\n",
       "      <th>Pg</th>\n",
       "    </tr>\n",
       "  </thead>\n",
       "  <tbody>\n",
       "    <tr>\n",
       "      <th>1987-07-01</th>\n",
       "      <td>31</td>\n",
       "      <td>0.220161</td>\n",
       "      <td>4.171875</td>\n",
       "      <td>23</td>\n",
       "      <td>4</td>\n",
       "      <td>-19.6</td>\n",
       "    </tr>\n",
       "    <tr>\n",
       "      <th>1987-08-01</th>\n",
       "      <td>31</td>\n",
       "      <td>-1.032258</td>\n",
       "      <td>3.922619</td>\n",
       "      <td>24</td>\n",
       "      <td>2</td>\n",
       "      <td>-29.2</td>\n",
       "    </tr>\n",
       "    <tr>\n",
       "      <th>1987-09-01</th>\n",
       "      <td>30</td>\n",
       "      <td>-10.382917</td>\n",
       "      <td>4.345238</td>\n",
       "      <td>21</td>\n",
       "      <td>5</td>\n",
       "      <td>-18.4</td>\n",
       "    </tr>\n",
       "    <tr>\n",
       "      <th>1987-10-01</th>\n",
       "      <td>31</td>\n",
       "      <td>-16.390323</td>\n",
       "      <td>3.738636</td>\n",
       "      <td>23</td>\n",
       "      <td>5</td>\n",
       "      <td>-7.5</td>\n",
       "    </tr>\n",
       "    <tr>\n",
       "      <th>1987-11-01</th>\n",
       "      <td>30</td>\n",
       "      <td>-29.741667</td>\n",
       "      <td>3.925000</td>\n",
       "      <td>11</td>\n",
       "      <td>3</td>\n",
       "      <td>-151.0</td>\n",
       "    </tr>\n",
       "    <tr>\n",
       "      <th>1987-12-01</th>\n",
       "      <td>31</td>\n",
       "      <td>-32.711290</td>\n",
       "      <td>3.893750</td>\n",
       "      <td>6</td>\n",
       "      <td>1</td>\n",
       "      <td>-232.9</td>\n",
       "    </tr>\n",
       "    <tr>\n",
       "      <th>1988-01-01</th>\n",
       "      <td>31</td>\n",
       "      <td>-29.939919</td>\n",
       "      <td>4.875000</td>\n",
       "      <td>23</td>\n",
       "      <td>4</td>\n",
       "      <td>-16.6</td>\n",
       "    </tr>\n",
       "    <tr>\n",
       "      <th>1988-02-01</th>\n",
       "      <td>29</td>\n",
       "      <td>-29.355603</td>\n",
       "      <td>4.133333</td>\n",
       "      <td>19</td>\n",
       "      <td>4</td>\n",
       "      <td>-39.1</td>\n",
       "    </tr>\n",
       "    <tr>\n",
       "      <th>1988-03-01</th>\n",
       "      <td>31</td>\n",
       "      <td>-36.337500</td>\n",
       "      <td>3.554348</td>\n",
       "      <td>18</td>\n",
       "      <td>8</td>\n",
       "      <td>-35.5</td>\n",
       "    </tr>\n",
       "    <tr>\n",
       "      <th>1988-04-01</th>\n",
       "      <td>30</td>\n",
       "      <td>-28.451250</td>\n",
       "      <td>3.552885</td>\n",
       "      <td>11</td>\n",
       "      <td>5</td>\n",
       "      <td>-127.4</td>\n",
       "    </tr>\n",
       "    <tr>\n",
       "      <th>1988-05-01</th>\n",
       "      <td>31</td>\n",
       "      <td>-9.255645</td>\n",
       "      <td>3.635870</td>\n",
       "      <td>23</td>\n",
       "      <td>2</td>\n",
       "      <td>-40.6</td>\n",
       "    </tr>\n",
       "  </tbody>\n",
       "</table>\n",
       "</div>"
      ],
      "text/plain": [
       "            ND        Tmn        Ug  DP  Dtc     Pg\n",
       "1987-07-01  31   0.220161  4.171875  23    4  -19.6\n",
       "1987-08-01  31  -1.032258  3.922619  24    2  -29.2\n",
       "1987-09-01  30 -10.382917  4.345238  21    5  -18.4\n",
       "1987-10-01  31 -16.390323  3.738636  23    5   -7.5\n",
       "1987-11-01  30 -29.741667  3.925000  11    3 -151.0\n",
       "1987-12-01  31 -32.711290  3.893750   6    1 -232.9\n",
       "1988-01-01  31 -29.939919  4.875000  23    4  -16.6\n",
       "1988-02-01  29 -29.355603  4.133333  19    4  -39.1\n",
       "1988-03-01  31 -36.337500  3.554348  18    8  -35.5\n",
       "1988-04-01  30 -28.451250  3.552885  11    5 -127.4\n",
       "1988-05-01  31  -9.255645  3.635870  23    2  -40.6"
      ]
     },
     "execution_count": 7,
     "metadata": {},
     "output_type": "execute_result"
    }
   ],
   "source": [
    "dfMon = pd.DataFrame({\n",
    "    'ND': df.Station_ID.resample('MS').count(),\n",
    "    'Tmn': df.TAIR.resample('MS', label='left').mean(),\n",
    "    'Ug': df.WSPD[df.WSPD < 6.].resample('MS', label='left').mean(),\n",
    "    'DP': df.PRECIP[df.PRECIP > 0.].resample('MS').count(),\n",
    "    'Dtc': df.PRECIP[df.PRECIP == 0.].resample('MS').count(),\n",
    "    'Pg': df.PRECIP.resample('MS').sum()\n",
    "})\n",
    "dfMon"
   ]
  },
  {
   "cell_type": "markdown",
   "metadata": {},
   "source": [
    "f = filelist[0]\n",
    "df = pd.read_csv(f, header=0, index_col=0, sep=',', parse_dates=True)\n",
    "df.head()"
   ]
  },
  {
   "cell_type": "code",
   "execution_count": null,
   "metadata": {},
   "outputs": [],
   "source": [
    "plot_station_met(df, title=os.path.basename(f))"
   ]
  },
  {
   "cell_type": "markdown",
   "metadata": {},
   "source": [
    "def cr_tretyakov_snow(ws, tmax, tmin):\n",
    "    \"\"\"Calculates the catch ratio of a Tretyakov rain gauge using WMO standard procedure for snow\n",
    "    \n",
    "    Methods for developing catch ratios are described in Goodison et al 1998.\n",
    "    \n",
    "    Arguments\n",
    "    ---------\n",
    "    ws - wind speed at height of gauge orifice in m/s\n",
    "    tmax - maximum air temperature in degrees celsius\n",
    "    tmin - minimum air temperature\n",
    "    \"\"\"\n",
    "    return 103.11 - 8.67*ws + 0.3*tmax\n",
    "\n",
    "\n",
    "def cr_tretyakov_mixed(ws, tmax, tmin):\n",
    "    \"\"\"Calculates the catch ratio of a Tretyakov rain gauge using WMO standard procedure for mixed precipitation\n",
    "    \n",
    "    Methods for developing catch ratios are described in Goodison et al 1998.\n",
    "    \n",
    "    Arguments\n",
    "    ---------\n",
    "    ws - wind speed at height of gauge orifice in m/s\n",
    "    tmax - maximum air temperature in degrees celsius\n",
    "    tmin - minimum air temperature in degrees celsius\n",
    "    \"\"\"\n",
    "    return 96.99 - 4.46*ws + 0.88*tmax +0.22*tmin\n",
    "\n",
    "def cr_tretyakov_rain(ws, tmax, tmin):\n",
    "    \"\"\"Returns catch ratio for Treyakov rain gauge using WMO standard procedure for rain.\n",
    "    \n",
    "    In Goodison et al 1998, no rain correction is available but they state that catch ratios for rain are \n",
    "    largely unaffected by wind.  So I take the average catch ratio of all sites from Table 4.4.1\n",
    "    \n",
    "    I drop catch ratios from Bismark and Harzgerode because these a lower by more than 5% than other locations.\"\"\"\n",
    "    return 91.7\n",
    "\n",
    "\n",
    "def cr_tretyakov_dry(ws, tmax, tmin):\n",
    "    return 100.\n",
    "\n",
    "def catch_ratio(x):\n",
    "    cr_func = {\n",
    "        0: cr_tretyakov_dry,\n",
    "        1: cr_tretyakov_snow,\n",
    "        2: cr_tretyakov_mixed,\n",
    "        3: cr_tretyakov_rain,\n",
    "        }\n",
    "    if x.WSPD < 6.:\n",
    "        return 1./ (cr_func[x.PTYPE](x.WSPD, x.TMAX, x.TMIN)*0.01 )\n",
    "    else:\n",
    "        return 1.\n",
    "\n",
    "\n",
    "def wind_at_gauge(x):\n",
    "    \"\"\"Reduces 10 m wind speed to wind at gauge height orifice\"\"\"\n",
    "    H = 10.  # height of anenometer\n",
    "    hg = 3.  # height of gauge orifice\n",
    "    z0 = 0.01  # Roughness parameter of snow surface\n",
    "    return x.WSPD * np.log10(hg/z0) / np.log10(H/z0)"
   ]
  },
  {
   "cell_type": "markdown",
   "metadata": {},
   "source": [
    "Proof of concept for using average catch ratio for rain"
   ]
  },
  {
   "cell_type": "code",
   "execution_count": null,
   "metadata": {},
   "outputs": [],
   "source": [
    "rain = pd.DataFrame({'wspd': [3.8, 2.7, 1.0, 2.5, 4.2, 3.3, 1.2, 1.6, 1.9, 3.9, 2.3],\n",
    "                     'cr': [91.4, 92.0, 94.3, 86.6, 81.3, 71.6, 90.6, 88.2, 95.0, 97.4, 90.0]})\n",
    "rain.drop([4,5]).mean()"
   ]
  },
  {
   "cell_type": "code",
   "execution_count": null,
   "metadata": {},
   "outputs": [],
   "source": [
    "rain.plot(x='wspd', y='cr', marker='+', ls='')"
   ]
  },
  {
   "cell_type": "markdown",
   "metadata": {},
   "source": [
    "Set Trace days to 0.1 mm"
   ]
  },
  {
   "cell_type": "code",
   "execution_count": null,
   "metadata": {},
   "outputs": [],
   "source": [
    "df['PTRACE'] = 0.0\n",
    "df.loc[(df['PTYPE'] > 0) & (df['PRECIP'] == 0.), 'PTRACE'] = 0.1\n",
    "df['Ug'] = df.apply(wind_at_gauge, axis=1)\n",
    "df['Ug'].where(df['Ug'] <= 6.).resample('M').mean()"
   ]
  },
  {
   "cell_type": "code",
   "execution_count": null,
   "metadata": {},
   "outputs": [],
   "source": [
    "df['CR'] = df.apply(catch_ratio, axis=1)\n",
    "df['PWIND'] = df['PRECIP'] * df['CR']\n",
    "df.head()"
   ]
  },
  {
   "cell_type": "code",
   "execution_count": null,
   "metadata": {},
   "outputs": [],
   "source": [
    "df['PCORR'] = df.PRECIP + df.PTRACE + df.PWIND\n",
    "df.head()"
   ]
  },
  {
   "cell_type": "code",
   "execution_count": null,
   "metadata": {},
   "outputs": [],
   "source": [
    "precMon = df[['PRECIP', 'PTRACE', 'PWIND', 'PCORR']].resample('M').sum()\n",
    "precMon['TAIR'] = df['TAIR'].resample('M').mean()\n",
    "precMon['WSPD'] = df['WSPD'].resample('M').mean()\n",
    "precMon['TAIR_yang'] = yangMon['Tmn'].values\n",
    "precMon['WSPD_yang'] = yangMon['Ug'].values\n",
    "precMon"
   ]
  },
  {
   "cell_type": "code",
   "execution_count": null,
   "metadata": {},
   "outputs": [],
   "source": [
    "sub = df[(df.index.year == 1972) & (df.index.month == 5)]\n",
    "(sub.PTRACE * sub.CR).sum()"
   ]
  },
  {
   "cell_type": "code",
   "execution_count": null,
   "metadata": {},
   "outputs": [],
   "source": [
    "yang_diri = '/home/apbarret/Data/NPSNOW/yang_precip'\n",
    "yangMon = npsnow.read_yang_updated(os.path.join(yang_diri, f'yang_np_precip_updated_coords_{sid}.csv'))\n",
    "yangMon.index = yangMon.Date\n",
    "yangMon"
   ]
  },
  {
   "cell_type": "code",
   "execution_count": null,
   "metadata": {},
   "outputs": [],
   "source": []
  }
 ],
 "metadata": {
  "kernelspec": {
   "display_name": "Python 3",
   "language": "python",
   "name": "python3"
  },
  "language_info": {
   "codemirror_mode": {
    "name": "ipython",
    "version": 3
   },
   "file_extension": ".py",
   "mimetype": "text/x-python",
   "name": "python",
   "nbconvert_exporter": "python",
   "pygments_lexer": "ipython3",
   "version": "3.7.3"
  }
 },
 "nbformat": 4,
 "nbformat_minor": 4
}
