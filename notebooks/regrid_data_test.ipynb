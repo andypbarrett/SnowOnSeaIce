{
 "cells": [
  {
   "cell_type": "code",
   "execution_count": 25,
   "metadata": {
    "collapsed": false
   },
   "outputs": [
    {
     "name": "stdout",
     "output_type": "stream",
     "text": [
      "Populating the interactive namespace from numpy and matplotlib\n"
     ]
    }
   ],
   "source": [
    "%pylab inline"
   ]
  },
  {
   "cell_type": "code",
   "execution_count": 26,
   "metadata": {
    "collapsed": true
   },
   "outputs": [],
   "source": [
    "import xarray as xr\n",
    "import numpy as np\n",
    "import matplotlib.pyplot as plt\n",
    "import matplotlib.colors as mcolors\n",
    "import matplotlib.path as mpath\n",
    "import cartopy.crs as ccrs\n",
    "import cartopy.feature as cfeature\n",
    "import datetime as dt\n",
    "import os"
   ]
  },
  {
   "cell_type": "code",
   "execution_count": 33,
   "metadata": {
    "collapsed": true
   },
   "outputs": [],
   "source": [
    "def get_data(fili, variable, swap_latlon=True):\n",
    "    \n",
    "    ds = xr.open_dataset(fili)\n",
    "\n",
    "    if swap_latlon: \n",
    "        ds.rename({'lat': 'lonx', 'lon': 'latx'}, inplace=True)\n",
    "        ds.rename({'latx': 'lat', 'lonx': 'lon'}, inplace=True)\n",
    "        \n",
    "    da = ds[variable]\n",
    "    da = da * 1e3 # Scale to mm\n",
    "    \n",
    "    # Get attributes\n",
    "    da.attrs = ds[variable].attrs\n",
    "    da.attrs['units'] = 'mm'\n",
    "\n",
    "    proj = ccrs.PlateCarree()\n",
    "    extent = [da.coords['lon'].values[0],\n",
    "              da.coords['lon'].values[-1],\n",
    "              da.coords['lat'].values[0],\n",
    "              da.coords['lat'].values[-1]]\n",
    "    origin = 'upper'\n",
    "    \n",
    "    return da, proj, extent, origin\n"
   ]
  },
  {
   "cell_type": "code",
   "execution_count": 28,
   "metadata": {
    "collapsed": true
   },
   "outputs": [],
   "source": [
    "def get_latlon():\n",
    "    \n",
    "    diri = r'C:\\Users\\apbarret\\Documents\\data\\SnowOnSeaIce'\n",
    "    latfile = 'Na25.lat.361x361x1.float'\n",
    "    lonfile = 'Na25.lon.361x361x1.float'\n",
    "    \n",
    "    lat = np.fromfile(os.path.join(diri,latfile), dtype=float32).reshape(361,361)\n",
    "    lon = np.fromfile(os.path.join(diri,lonfile), dtype=float32).reshape(361,361)\n",
    "    \n",
    "    return lat, lon"
   ]
  },
  {
   "cell_type": "code",
   "execution_count": 34,
   "metadata": {
    "collapsed": true
   },
   "outputs": [],
   "source": [
    "diri = r'C:\\Users\\apbarret\\Documents\\data\\SnowOnSeaIce'\n",
    "fili = 'era_interim.PRECTOT.201501.day.nc'\n",
    "\n",
    "precip, pproj, pextent, porigin = get_data(os.path.join(diri,fili), 'PRECTOT')"
   ]
  },
  {
   "cell_type": "code",
   "execution_count": 30,
   "metadata": {
    "collapsed": false
   },
   "outputs": [
    {
     "data": {
      "text/plain": [
       "<matplotlib.image.AxesImage at 0x10f53da0>"
      ]
     },
     "execution_count": 30,
     "metadata": {},
     "output_type": "execute_result"
    },
    {
     "data": {
      "image/png": "[encoded data removed]",
      "text/plain": [
       "<matplotlib.figure.Figure at 0x10bc1d68>"
      ]
     },
     "metadata": {},
     "output_type": "display_data"
    }
   ],
   "source": [
    "lat, lon = get_latlon()\n",
    "\n",
    "plt.imshow(lon)"
   ]
  },
  {
   "cell_type": "code",
   "execution_count": 52,
   "metadata": {
    "collapsed": false
   },
   "outputs": [
    {
     "name": "stdout",
     "output_type": "stream",
     "text": [
      "-0.75 0.75 90.0 0.0\n"
     ]
    }
   ],
   "source": [
    "rlat = precip.coords['lat'].data\n",
    "rlon = precip.coords['lon'].data\n",
    "drlat = rlat[1] - rlat[0]\n",
    "drlon = rlon[1] - rlon[0]\n",
    "rlat0 = rlat[0]\n",
    "rlon0 = rlon[0]\n",
    "print drlat, drlon, rlat0, rlon0"
   ]
  },
  {
   "cell_type": "code",
   "execution_count": 49,
   "metadata": {
    "collapsed": false
   },
   "outputs": [
    {
     "data": {
      "text/plain": [
       "13.333333333333334"
      ]
     },
     "execution_count": 49,
     "metadata": {},
     "output_type": "execute_result"
    }
   ],
   "source": [
    "j = np.floor((lat.flatten - rlat0)/drlat)\n",
    "i = np.floor((lon.flatten - rlon0)/drlon)"
   ]
  },
  {
   "cell_type": "code",
   "execution_count": 90,
   "metadata": {
    "collapsed": false
   },
   "outputs": [],
   "source": [
    "def regridll(ilat, ilon, olat, olon, test=False):\n",
    "    '''\n",
    "    ilat - scalar or array of input latitudes\n",
    "    ilon - scalar or array of input latitudes\n",
    "    olat - array of output latitude\n",
    "    olon - array of output longitude\n",
    "    '''\n",
    "    \n",
    "    dolat = olat[1] - olat[0]\n",
    "    dolon = olon[1] - olon[0]\n",
    "    olat0 = olat[0]\n",
    "    olon0 = olon[0]\n",
    "\n",
    "    j = np.floor((ilat.flatten() - olat0)/dolat).astype(int)\n",
    "    i = np.floor((ilon.flatten() - olon0)/dolon).astype(int)\n",
    "    \n",
    "    if test:\n",
    "        print 'Input -> Output'\n",
    "        print 'ilat={:9.4f}, j={}, olat={:9.4f}'.format(ilat, j[0], olat[j])\n",
    "        print 'ilon={:9.4f}, i={}, olon={:9.4f}'.format(ilon, i[0], olon[i])\n",
    "        \n",
    "    return i, j"
   ]
  },
  {
   "cell_type": "code",
   "execution_count": 107,
   "metadata": {
    "collapsed": false
   },
   "outputs": [],
   "source": [
    "i, j = regridll(lat[0,0], lon[0,0], precip.coords['lat'].data, precip.coords['lon'].data)"
   ]
  },
  {
   "cell_type": "code",
   "execution_count": 108,
   "metadata": {
    "collapsed": false
   },
   "outputs": [
    {
     "data": {
      "text/plain": [
       "(-135.0, 29.896942, -180, 80, 135.0, 30.0)"
      ]
     },
     "execution_count": 108,
     "metadata": {},
     "output_type": "execute_result"
    }
   ],
   "source": [
    "lon[0,0], lat[0,0], i[0], j[0], precip.coords['lon'].data[180], precip.coords['lat'].data[80]"
   ]
  },
  {
   "cell_type": "code",
   "execution_count": 106,
   "metadata": {
    "collapsed": false
   },
   "outputs": [
    {
     "data": {
      "text/plain": [
       "300"
      ]
     },
     "execution_count": 106,
     "metadata": {},
     "output_type": "execute_result"
    }
   ],
   "source": [
    "ilon = 225.\n",
    "(np.abs(precip.coords['lon'].data -ilon)).argmin()"
   ]
  },
  {
   "cell_type": "code",
   "execution_count": 109,
   "metadata": {
    "collapsed": false
   },
   "outputs": [
    {
     "data": {
      "text/plain": [
       "135.0"
      ]
     },
     "execution_count": 109,
     "metadata": {},
     "output_type": "execute_result"
    }
   ],
   "source": [
    "precip.coords['lon'].data[180]"
   ]
  },
  {
   "cell_type": "code",
   "execution_count": 131,
   "metadata": {
    "collapsed": false
   },
   "outputs": [],
   "source": [
    "alon = np.array([0., 45., 90., 135., 180., 225., 270., 315.])\n",
    "alat = np.array([-90., -45., 0., 45., 90.])"
   ]
  },
  {
   "cell_type": "code",
   "execution_count": 133,
   "metadata": {
    "collapsed": true
   },
   "outputs": [],
   "source": [
    "def getij(ilon, ilat, olon, olat):\n",
    "    \n",
    "    # Make sure everything is a numpy array\n",
    "    iilon = np.array(ilon)\n",
    "    iilat = np.array(ilat)\n",
    "    oolon = np.array(olon)\n",
    "    oolat = np.array(olat)\n",
    "    \n",
    "    # Convert longitude arrays to span 0. to 360.\n",
    "    iilon = np.where(iilon < 0., 360.+iilon, iilon)\n",
    "    oolon = np.where(oolon < 0., 360.+oolon, oolon)\n",
    "    \n",
    "    i = np.abs(oolon - iilon).argmin()\n",
    "    j = np.abs(oolat - iilat).argmin()\n",
    "    \n",
    "    return i, j"
   ]
  },
  {
   "cell_type": "code",
   "execution_count": 142,
   "metadata": {
    "collapsed": false
   },
   "outputs": [
    {
     "name": "stdout",
     "output_type": "stream",
     "text": [
      "0.0 45.0\n"
     ]
    }
   ],
   "source": [
    "i, j = getij(1., 27., alon, alat)\n",
    "print alon[i], alat[j]"
   ]
  },
  {
   "cell_type": "code",
   "execution_count": 145,
   "metadata": {
    "collapsed": false
   },
   "outputs": [
    {
     "name": "stdout",
     "output_type": "stream",
     "text": [
      "[ 355.  310.  265.  220.  175.  130.   85.   40.]\n"
     ]
    }
   ],
   "source": [
    "print np.abs(alon - 355.)"
   ]
  },
  {
   "cell_type": "code",
   "execution_count": null,
   "metadata": {
    "collapsed": true
   },
   "outputs": [],
   "source": []
  }
 ],
 "metadata": {
  "kernelspec": {
   "display_name": "Python 2",
   "language": "python",
   "name": "python2"
  },
  "language_info": {
   "codemirror_mode": {
    "name": "ipython",
    "version": 2
   },
   "file_extension": ".py",
   "mimetype": "text/x-python",
   "name": "python",
   "nbconvert_exporter": "python",
   "pygments_lexer": "ipython2",
   "version": "2.7.13"
  }
 },
 "nbformat": 4,
 "nbformat_minor": 2
}
